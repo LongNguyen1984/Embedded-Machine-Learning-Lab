{
  "nbformat": 4,
  "nbformat_minor": 0,
  "metadata": {
    "colab": {
      "name": "LogisticRegression.ipynb",
      "provenance": [],
      "authorship_tag": "ABX9TyPU//sUjLYsct5ujB6JzrD0",
      "include_colab_link": true
    },
    "kernelspec": {
      "name": "python3",
      "display_name": "Python 3"
    },
    "language_info": {
      "name": "python"
    }
  },
  "cells": [
    {
      "cell_type": "markdown",
      "metadata": {
        "id": "view-in-github",
        "colab_type": "text"
      },
      "source": [
        "<a href=\"https://colab.research.google.com/github/LongNguyen1984/Embedded-Machine-Learning-Lab/blob/main/LogisticRegression.ipynb\" target=\"_parent\"><img src=\"https://colab.research.google.com/assets/colab-badge.svg\" alt=\"Open In Colab\"/></a>"
      ]
    },
    {
      "cell_type": "markdown",
      "metadata": {
        "id": "_ywvG3u61qfD"
      },
      "source": [
        "# Logistic Regression"
      ]
    },
    {
      "cell_type": "code",
      "metadata": {
        "colab": {
          "base_uri": "https://localhost:8080/"
        },
        "id": "bRcs7kMB1l9M",
        "outputId": "ba2798fe-5a5a-413d-dbff-3a831473416a"
      },
      "source": [
        "import pandas as pd\n",
        "import numpy as np\n",
        "import statsmodels.api as sm"
      ],
      "execution_count": 1,
      "outputs": [
        {
          "output_type": "stream",
          "text": [
            "/usr/local/lib/python3.7/dist-packages/statsmodels/tools/_testing.py:19: FutureWarning: pandas.util.testing is deprecated. Use the functions in the public API at pandas.testing instead.\n",
            "  import pandas.util.testing as tm\n"
          ],
          "name": "stderr"
        }
      ]
    },
    {
      "cell_type": "code",
      "metadata": {
        "colab": {
          "base_uri": "https://localhost:8080/",
          "height": 232
        },
        "id": "ZFzO3l9r15Ru",
        "outputId": "9e0a052c-8c48-44c2-f2e0-3772bcd9f9d0"
      },
      "source": [
        "# download the Smarket.csv datafile\n",
        "df = pd.read_csv('https://raw.githubusercontent.com/JWarmenhoven/ISLR-python/master/Notebooks/Data/Smarket.csv', index_col=1, parse_dates=True)\n",
        "df.head()"
      ],
      "execution_count": 70,
      "outputs": [
        {
          "output_type": "execute_result",
          "data": {
            "text/html": [
              "<div>\n",
              "<style scoped>\n",
              "    .dataframe tbody tr th:only-of-type {\n",
              "        vertical-align: middle;\n",
              "    }\n",
              "\n",
              "    .dataframe tbody tr th {\n",
              "        vertical-align: top;\n",
              "    }\n",
              "\n",
              "    .dataframe thead th {\n",
              "        text-align: right;\n",
              "    }\n",
              "</style>\n",
              "<table border=\"1\" class=\"dataframe\">\n",
              "  <thead>\n",
              "    <tr style=\"text-align: right;\">\n",
              "      <th></th>\n",
              "      <th>Unnamed: 0</th>\n",
              "      <th>Lag1</th>\n",
              "      <th>Lag2</th>\n",
              "      <th>Lag3</th>\n",
              "      <th>Lag4</th>\n",
              "      <th>Lag5</th>\n",
              "      <th>Volume</th>\n",
              "      <th>Today</th>\n",
              "      <th>Direction</th>\n",
              "    </tr>\n",
              "    <tr>\n",
              "      <th>Year</th>\n",
              "      <th></th>\n",
              "      <th></th>\n",
              "      <th></th>\n",
              "      <th></th>\n",
              "      <th></th>\n",
              "      <th></th>\n",
              "      <th></th>\n",
              "      <th></th>\n",
              "      <th></th>\n",
              "    </tr>\n",
              "  </thead>\n",
              "  <tbody>\n",
              "    <tr>\n",
              "      <th>2001-01-01</th>\n",
              "      <td>1</td>\n",
              "      <td>0.381</td>\n",
              "      <td>-0.192</td>\n",
              "      <td>-2.624</td>\n",
              "      <td>-1.055</td>\n",
              "      <td>5.010</td>\n",
              "      <td>1.1913</td>\n",
              "      <td>0.959</td>\n",
              "      <td>Up</td>\n",
              "    </tr>\n",
              "    <tr>\n",
              "      <th>2001-01-01</th>\n",
              "      <td>2</td>\n",
              "      <td>0.959</td>\n",
              "      <td>0.381</td>\n",
              "      <td>-0.192</td>\n",
              "      <td>-2.624</td>\n",
              "      <td>-1.055</td>\n",
              "      <td>1.2965</td>\n",
              "      <td>1.032</td>\n",
              "      <td>Up</td>\n",
              "    </tr>\n",
              "    <tr>\n",
              "      <th>2001-01-01</th>\n",
              "      <td>3</td>\n",
              "      <td>1.032</td>\n",
              "      <td>0.959</td>\n",
              "      <td>0.381</td>\n",
              "      <td>-0.192</td>\n",
              "      <td>-2.624</td>\n",
              "      <td>1.4112</td>\n",
              "      <td>-0.623</td>\n",
              "      <td>Down</td>\n",
              "    </tr>\n",
              "    <tr>\n",
              "      <th>2001-01-01</th>\n",
              "      <td>4</td>\n",
              "      <td>-0.623</td>\n",
              "      <td>1.032</td>\n",
              "      <td>0.959</td>\n",
              "      <td>0.381</td>\n",
              "      <td>-0.192</td>\n",
              "      <td>1.2760</td>\n",
              "      <td>0.614</td>\n",
              "      <td>Up</td>\n",
              "    </tr>\n",
              "    <tr>\n",
              "      <th>2001-01-01</th>\n",
              "      <td>5</td>\n",
              "      <td>0.614</td>\n",
              "      <td>-0.623</td>\n",
              "      <td>1.032</td>\n",
              "      <td>0.959</td>\n",
              "      <td>0.381</td>\n",
              "      <td>1.2057</td>\n",
              "      <td>0.213</td>\n",
              "      <td>Up</td>\n",
              "    </tr>\n",
              "  </tbody>\n",
              "</table>\n",
              "</div>"
            ],
            "text/plain": [
              "            Unnamed: 0   Lag1   Lag2   Lag3  ...   Lag5  Volume  Today  Direction\n",
              "Year                                         ...                                 \n",
              "2001-01-01           1  0.381 -0.192 -2.624  ...  5.010  1.1913  0.959         Up\n",
              "2001-01-01           2  0.959  0.381 -0.192  ... -1.055  1.2965  1.032         Up\n",
              "2001-01-01           3  1.032  0.959  0.381  ... -2.624  1.4112 -0.623       Down\n",
              "2001-01-01           4 -0.623  1.032  0.959  ... -0.192  1.2760  0.614         Up\n",
              "2001-01-01           5  0.614 -0.623  1.032  ...  0.381  1.2057  0.213         Up\n",
              "\n",
              "[5 rows x 9 columns]"
            ]
          },
          "metadata": {
            "tags": []
          },
          "execution_count": 70
        }
      ]
    },
    {
      "cell_type": "markdown",
      "metadata": {
        "id": "Aa6l8gxg2eP5"
      },
      "source": [
        "In this lab, a logistic regression model in order to predict Direction using Lab1 through Lag5 and Volumn. \n",
        "We build our model using the glm() function, which is part of formula submodule of (statsmodels)"
      ]
    },
    {
      "cell_type": "code",
      "metadata": {
        "id": "-TWElBe92cG6"
      },
      "source": [
        "import statsmodels.formula.api as smf"
      ],
      "execution_count": 3,
      "outputs": []
    },
    {
      "cell_type": "markdown",
      "metadata": {
        "id": "aMZnhgYX3T8C"
      },
      "source": [
        "## We use the formular\n",
        "\n",
        "'Direction' ~ Lag1 + Lag2 + ... + Lag5 + Volume"
      ]
    },
    {
      "cell_type": "code",
      "metadata": {
        "id": "k398SF1W3vba"
      },
      "source": [
        "formula = 'Direction ~ Lag1 + Lag2 + Lag3 + Lag4 + Lag5 + Volume'"
      ],
      "execution_count": 86,
      "outputs": []
    },
    {
      "cell_type": "code",
      "metadata": {
        "colab": {
          "base_uri": "https://localhost:8080/"
        },
        "id": "SyhuPOKP3eyh",
        "outputId": "82fa0137-9b01-41f2-e06e-224d37532b7b"
      },
      "source": [
        "model = smf.glm(formula=formula, data =df, family = sm.families.Binomial())\n",
        "result = model.fit()\n",
        "print(result.summary())"
      ],
      "execution_count": 87,
      "outputs": [
        {
          "output_type": "stream",
          "text": [
            "                          Generalized Linear Model Regression Results                           \n",
            "================================================================================================\n",
            "Dep. Variable:     ['Direction[Down]', 'Direction[Up]']   No. Observations:                 1250\n",
            "Model:                                              GLM   Df Residuals:                     1243\n",
            "Model Family:                                  Binomial   Df Model:                            6\n",
            "Link Function:                                    logit   Scale:                          1.0000\n",
            "Method:                                            IRLS   Log-Likelihood:                -863.79\n",
            "Date:                                  Wed, 21 Jul 2021   Deviance:                       1727.6\n",
            "Time:                                          10:18:46   Pearson chi2:                 1.25e+03\n",
            "No. Iterations:                                       4                                         \n",
            "Covariance Type:                              nonrobust                                         \n",
            "==============================================================================\n",
            "                 coef    std err          z      P>|z|      [0.025      0.975]\n",
            "------------------------------------------------------------------------------\n",
            "Intercept      0.1260      0.241      0.523      0.601      -0.346       0.598\n",
            "Lag1           0.0731      0.050      1.457      0.145      -0.025       0.171\n",
            "Lag2           0.0423      0.050      0.845      0.398      -0.056       0.140\n",
            "Lag3          -0.0111      0.050     -0.222      0.824      -0.109       0.087\n",
            "Lag4          -0.0094      0.050     -0.187      0.851      -0.107       0.089\n",
            "Lag5          -0.0103      0.050     -0.208      0.835      -0.107       0.087\n",
            "Volume        -0.1354      0.158     -0.855      0.392      -0.446       0.175\n",
            "==============================================================================\n"
          ],
          "name": "stdout"
        }
      ]
    },
    {
      "cell_type": "code",
      "metadata": {
        "colab": {
          "base_uri": "https://localhost:8080/"
        },
        "id": "NF75h8kL7-jA",
        "outputId": "d69097b3-0bac-4384-f9b2-55ab5b2caca0"
      },
      "source": [
        "print(\"Coefficeients\")\n",
        "print(result.params)\n",
        "print()\n",
        "print(\"p-Values\")\n",
        "print(result.pvalues)\n",
        "print()\n",
        "print(\"Dependent variables\")\n",
        "print(result.model.endog_names)"
      ],
      "execution_count": 6,
      "outputs": [
        {
          "output_type": "stream",
          "text": [
            "Coefficeients\n",
            "Intercept    0.126000\n",
            "Lag1         0.073074\n",
            "Lag2         0.042301\n",
            "Lag3        -0.011085\n",
            "Lag4        -0.009359\n",
            "Lag5        -0.010313\n",
            "Volume      -0.135441\n",
            "dtype: float64\n",
            "\n",
            "p-Values\n",
            "Intercept    0.600700\n",
            "Lag1         0.145232\n",
            "Lag2         0.398352\n",
            "Lag3         0.824334\n",
            "Lag4         0.851445\n",
            "Lag5         0.834998\n",
            "Volume       0.392404\n",
            "dtype: float64\n",
            "\n",
            "Dependent variables\n",
            "['Direction[Down]', 'Direction[Up]']\n"
          ],
          "name": "stdout"
        }
      ]
    },
    {
      "cell_type": "markdown",
      "metadata": {
        "id": "XtOZ2u3I8U63"
      },
      "source": [
        "Predict function will predict the probability that the market will go down, given values of the predictors."
      ]
    },
    {
      "cell_type": "code",
      "metadata": {
        "colab": {
          "base_uri": "https://localhost:8080/"
        },
        "id": "VGoJZ26m8t5f",
        "outputId": "b3fdfd0d-01c8-4b38-ee3e-24f1034c16e4"
      },
      "source": [
        "predictions = result.predict()\n",
        "print(predictions[0:10])"
      ],
      "execution_count": 7,
      "outputs": [
        {
          "output_type": "stream",
          "text": [
            "[0.49291587 0.51853212 0.51886117 0.48477764 0.48921884 0.49304354\n",
            " 0.50734913 0.49077084 0.48238647 0.51116222]\n"
          ],
          "name": "stdout"
        }
      ]
    },
    {
      "cell_type": "code",
      "metadata": {
        "colab": {
          "base_uri": "https://localhost:8080/"
        },
        "id": "CBTWPXb783z-",
        "outputId": "9cf3ac03-f423-4e0e-e45d-8c35065a965c"
      },
      "source": [
        "print(np.column_stack((df[\"Direction\"], \n",
        "                       result.model.endog)))"
      ],
      "execution_count": 8,
      "outputs": [
        {
          "output_type": "stream",
          "text": [
            "[['Up' 0.0]\n",
            " ['Up' 0.0]\n",
            " ['Down' 1.0]\n",
            " ...\n",
            " ['Up' 0.0]\n",
            " ['Down' 1.0]\n",
            " ['Down' 1.0]]\n"
          ],
          "name": "stdout"
        }
      ]
    },
    {
      "cell_type": "code",
      "metadata": {
        "id": "TXduTEb1-7jp"
      },
      "source": [
        "predictions_nomial  = ['Up' if x< 0.5 else 'Down' for x in predictions]\n"
      ],
      "execution_count": 9,
      "outputs": []
    },
    {
      "cell_type": "code",
      "metadata": {
        "colab": {
          "base_uri": "https://localhost:8080/"
        },
        "id": "s_U-H0JJ_VgV",
        "outputId": "d6debe81-d420-4632-a755-8d238770ff85"
      },
      "source": [
        "from sklearn.metrics import confusion_matrix, classification_report\n",
        "print(confusion_matrix(df['Direction'], predictions_nomial))"
      ],
      "execution_count": 10,
      "outputs": [
        {
          "output_type": "stream",
          "text": [
            "[[145 457]\n",
            " [141 507]]\n"
          ],
          "name": "stdout"
        }
      ]
    },
    {
      "cell_type": "code",
      "metadata": {
        "colab": {
          "base_uri": "https://localhost:8080/"
        },
        "id": "R5-4JnLC_0Bt",
        "outputId": "b1cf6d02-600f-4b4a-af11-f5a2f92cd826"
      },
      "source": [
        "(507 + 145)/(145+457+141+507)"
      ],
      "execution_count": 17,
      "outputs": [
        {
          "output_type": "execute_result",
          "data": {
            "text/plain": [
              "0.5216"
            ]
          },
          "metadata": {
            "tags": []
          },
          "execution_count": 17
        }
      ]
    },
    {
      "cell_type": "code",
      "metadata": {
        "colab": {
          "base_uri": "https://localhost:8080/"
        },
        "id": "RkF2wTUj_80O",
        "outputId": "ce1ffb4f-5eeb-4b6c-d8c2-5f048d89ffb5"
      },
      "source": [
        "print(classification_report(df[\"Direction\"], \n",
        "                            predictions_nomial, \n",
        "                            digits = 3))"
      ],
      "execution_count": 11,
      "outputs": [
        {
          "output_type": "stream",
          "text": [
            "              precision    recall  f1-score   support\n",
            "\n",
            "        Down      0.507     0.241     0.327       602\n",
            "          Up      0.526     0.782     0.629       648\n",
            "\n",
            "    accuracy                          0.522      1250\n",
            "   macro avg      0.516     0.512     0.478      1250\n",
            "weighted avg      0.517     0.522     0.483      1250\n",
            "\n"
          ],
          "name": "stdout"
        }
      ]
    },
    {
      "cell_type": "code",
      "metadata": {
        "id": "SCcORxxWbD4J"
      },
      "source": [
        "#df.set_index(\"Year\", inplace = True)\n",
        "x_train = df.loc[:'2004',:]\n",
        "y_train = df.loc[:'2004',['Direction']]\n",
        "\n",
        "x_test = df.loc['2005':,:]\n",
        "y_test = df.loc['2005':,['Direction']]"
      ],
      "execution_count": 73,
      "outputs": []
    },
    {
      "cell_type": "code",
      "metadata": {
        "colab": {
          "base_uri": "https://localhost:8080/",
          "height": 232
        },
        "id": "k99fpcSDdbev",
        "outputId": "95a8dd37-bb8e-474d-9fe2-4e622b6d8909"
      },
      "source": [
        "x_train.head()"
      ],
      "execution_count": 75,
      "outputs": [
        {
          "output_type": "execute_result",
          "data": {
            "text/html": [
              "<div>\n",
              "<style scoped>\n",
              "    .dataframe tbody tr th:only-of-type {\n",
              "        vertical-align: middle;\n",
              "    }\n",
              "\n",
              "    .dataframe tbody tr th {\n",
              "        vertical-align: top;\n",
              "    }\n",
              "\n",
              "    .dataframe thead th {\n",
              "        text-align: right;\n",
              "    }\n",
              "</style>\n",
              "<table border=\"1\" class=\"dataframe\">\n",
              "  <thead>\n",
              "    <tr style=\"text-align: right;\">\n",
              "      <th></th>\n",
              "      <th>Unnamed: 0</th>\n",
              "      <th>Lag1</th>\n",
              "      <th>Lag2</th>\n",
              "      <th>Lag3</th>\n",
              "      <th>Lag4</th>\n",
              "      <th>Lag5</th>\n",
              "      <th>Volume</th>\n",
              "      <th>Today</th>\n",
              "      <th>Direction</th>\n",
              "    </tr>\n",
              "    <tr>\n",
              "      <th>Year</th>\n",
              "      <th></th>\n",
              "      <th></th>\n",
              "      <th></th>\n",
              "      <th></th>\n",
              "      <th></th>\n",
              "      <th></th>\n",
              "      <th></th>\n",
              "      <th></th>\n",
              "      <th></th>\n",
              "    </tr>\n",
              "  </thead>\n",
              "  <tbody>\n",
              "    <tr>\n",
              "      <th>2001-01-01</th>\n",
              "      <td>1</td>\n",
              "      <td>0.381</td>\n",
              "      <td>-0.192</td>\n",
              "      <td>-2.624</td>\n",
              "      <td>-1.055</td>\n",
              "      <td>5.010</td>\n",
              "      <td>1.1913</td>\n",
              "      <td>0.959</td>\n",
              "      <td>Up</td>\n",
              "    </tr>\n",
              "    <tr>\n",
              "      <th>2001-01-01</th>\n",
              "      <td>2</td>\n",
              "      <td>0.959</td>\n",
              "      <td>0.381</td>\n",
              "      <td>-0.192</td>\n",
              "      <td>-2.624</td>\n",
              "      <td>-1.055</td>\n",
              "      <td>1.2965</td>\n",
              "      <td>1.032</td>\n",
              "      <td>Up</td>\n",
              "    </tr>\n",
              "    <tr>\n",
              "      <th>2001-01-01</th>\n",
              "      <td>3</td>\n",
              "      <td>1.032</td>\n",
              "      <td>0.959</td>\n",
              "      <td>0.381</td>\n",
              "      <td>-0.192</td>\n",
              "      <td>-2.624</td>\n",
              "      <td>1.4112</td>\n",
              "      <td>-0.623</td>\n",
              "      <td>Down</td>\n",
              "    </tr>\n",
              "    <tr>\n",
              "      <th>2001-01-01</th>\n",
              "      <td>4</td>\n",
              "      <td>-0.623</td>\n",
              "      <td>1.032</td>\n",
              "      <td>0.959</td>\n",
              "      <td>0.381</td>\n",
              "      <td>-0.192</td>\n",
              "      <td>1.2760</td>\n",
              "      <td>0.614</td>\n",
              "      <td>Up</td>\n",
              "    </tr>\n",
              "    <tr>\n",
              "      <th>2001-01-01</th>\n",
              "      <td>5</td>\n",
              "      <td>0.614</td>\n",
              "      <td>-0.623</td>\n",
              "      <td>1.032</td>\n",
              "      <td>0.959</td>\n",
              "      <td>0.381</td>\n",
              "      <td>1.2057</td>\n",
              "      <td>0.213</td>\n",
              "      <td>Up</td>\n",
              "    </tr>\n",
              "  </tbody>\n",
              "</table>\n",
              "</div>"
            ],
            "text/plain": [
              "            Unnamed: 0   Lag1   Lag2   Lag3  ...   Lag5  Volume  Today  Direction\n",
              "Year                                         ...                                 \n",
              "2001-01-01           1  0.381 -0.192 -2.624  ...  5.010  1.1913  0.959         Up\n",
              "2001-01-01           2  0.959  0.381 -0.192  ... -1.055  1.2965  1.032         Up\n",
              "2001-01-01           3  1.032  0.959  0.381  ... -2.624  1.4112 -0.623       Down\n",
              "2001-01-01           4 -0.623  1.032  0.959  ... -0.192  1.2760  0.614         Up\n",
              "2001-01-01           5  0.614 -0.623  1.032  ...  0.381  1.2057  0.213         Up\n",
              "\n",
              "[5 rows x 9 columns]"
            ]
          },
          "metadata": {
            "tags": []
          },
          "execution_count": 75
        }
      ]
    },
    {
      "cell_type": "code",
      "metadata": {
        "id": "4pvolZa-d3o4"
      },
      "source": [
        "model = smf.glm(formula, data=x_train, \n",
        "                family = sm.families.Binomial())\n",
        "result = model.fit()"
      ],
      "execution_count": 76,
      "outputs": []
    },
    {
      "cell_type": "code",
      "metadata": {
        "colab": {
          "base_uri": "https://localhost:8080/"
        },
        "id": "tT7vaDOQeNQA",
        "outputId": "15a07ad3-d7af-4279-8eb7-f4f710e09cf7"
      },
      "source": [
        "predictions = result.predict(x_test)\n",
        "predictions_nominal = [ \"Up\" if x < 0.5 else \"Down\" for x in predictions]\n",
        "print(classification_report(y_test, \n",
        "                            predictions_nominal, \n",
        "                            digits = 3))"
      ],
      "execution_count": 77,
      "outputs": [
        {
          "output_type": "stream",
          "text": [
            "              precision    recall  f1-score   support\n",
            "\n",
            "        Down      0.500     0.315     0.387       111\n",
            "          Up      0.582     0.752     0.656       141\n",
            "\n",
            "    accuracy                          0.560       252\n",
            "   macro avg      0.541     0.534     0.522       252\n",
            "weighted avg      0.546     0.560     0.538       252\n",
            "\n"
          ],
          "name": "stdout"
        }
      ]
    },
    {
      "cell_type": "markdown",
      "metadata": {
        "id": "zIY06bVLe1x1"
      },
      "source": [
        "## The better model"
      ]
    },
    {
      "cell_type": "code",
      "metadata": {
        "colab": {
          "base_uri": "https://localhost:8080/"
        },
        "id": "Yi9RynA7e1AD",
        "outputId": "be49fe12-a214-41bf-ebcf-acb6193f377d"
      },
      "source": [
        "formula = 'Direction ~ Lag1 + Lag2'\n",
        "model = smf.glm(formula, data=x_train, \n",
        "                family = sm.families.Binomial()) # Write your code to fit the new model here\n",
        "\n",
        "result = model.fit()\n",
        "# -----------------------------------\n",
        "# This will test your new model; you\n",
        "# don't need to change anything below\n",
        "# -----------------------------------result = model.fit()\n",
        "predictions = result.predict(x_test)\n",
        "predictions_nominal = [ \"Up\" if x < 0.5 else \"Down\" for x in predictions]\n",
        "print(classification_report(y_test, predictions_nominal, digits = 3))"
      ],
      "execution_count": 92,
      "outputs": [
        {
          "output_type": "stream",
          "text": [
            "              precision    recall  f1-score   support\n",
            "\n",
            "        Down      0.500     0.315     0.387       111\n",
            "          Up      0.582     0.752     0.656       141\n",
            "\n",
            "    accuracy                          0.560       252\n",
            "   macro avg      0.541     0.534     0.522       252\n",
            "weighted avg      0.546     0.560     0.538       252\n",
            "\n"
          ],
          "name": "stdout"
        }
      ]
    },
    {
      "cell_type": "code",
      "metadata": {
        "colab": {
          "base_uri": "https://localhost:8080/"
        },
        "id": "ZNaXL7HIglg4",
        "outputId": "6b514457-ab3d-4a73-b139-cb7832c303a2"
      },
      "source": [
        "print(result.predict(pd.DataFrame([[1.2, 1.1], \n",
        "                                   [1.5, -0.8]], \n",
        "                                  columns = [\"Lag1\",\"Lag2\"])))"
      ],
      "execution_count": 93,
      "outputs": [
        {
          "output_type": "stream",
          "text": [
            "0    0.520854\n",
            "1    0.503906\n",
            "dtype: float64\n"
          ],
          "name": "stdout"
        }
      ]
    }
  ]
}